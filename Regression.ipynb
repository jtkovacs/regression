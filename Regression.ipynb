{
 "cells": [
  {
   "cell_type": "markdown",
   "metadata": {},
   "source": [
    "## Libraries"
   ]
  },
  {
   "cell_type": "code",
   "execution_count": 1,
   "metadata": {
    "collapsed": true
   },
   "outputs": [],
   "source": [
    "from functools import reduce\n",
    "import matplotlib.pyplot as plt\n",
    "from pylab import plot, show\n",
    "import numpy as np "
   ]
  },
  {
   "cell_type": "markdown",
   "metadata": {},
   "source": [
    "## Test Data"
   ]
  },
  {
   "cell_type": "code",
   "execution_count": 2,
   "metadata": {
    "collapsed": false
   },
   "outputs": [],
   "source": [
    "x = [1,6,1.3,76,2,5,6,7,1,7,2,4,6,8,9]\n",
    "y = [3,5,2,68,8.9,6,3,5,8,10,3.2,5.11,6,8,4]"
   ]
  },
  {
   "cell_type": "markdown",
   "metadata": {},
   "source": [
    "## Regression function"
   ]
  },
  {
   "cell_type": "code",
   "execution_count": 7,
   "metadata": {
    "collapsed": false
   },
   "outputs": [
    {
     "name": "stdout",
     "output_type": "stream",
     "text": [
      "y = 0.8616x + 1.5648 with R² of 0.967\n"
     ]
    }
   ],
   "source": [
    "def linear_regression(x,y, p=True):\n",
    "    \"\"\" Perform OLS regression. Return m,b, r_sq, y-hat for Y-hat = mx + b.\n",
    "    \n",
    "    Arguments: x,y are 1D lists of floats, with len(x)==len(y) \n",
    "    x[0],y[0] are a data point, and so on.\n",
    "    \"\"\"   \n",
    "    \n",
    "    if len(x) != len(y):\n",
    "        print(\"Sorry, you must have (x,y) pairs to use this function.\")\n",
    "        pass\n",
    "    \n",
    "    # calculate statistics from data\n",
    "    def sum_up(x1, x2):\n",
    "        return x1+x2\n",
    "    \n",
    "    n = len(x)\n",
    "    mean_y = reduce(sum_up, y)/n\n",
    "    mean_x = reduce(sum_up, x)/n\n",
    "    squared_mean_x = mean_x**2\n",
    "    mean_x_squared = reduce(sum_up, map(lambda x: x**2, x))/n\n",
    "    mean_xy = reduce(sum_up, [x[i]*y[i] for i in range(n)])/n\n",
    "    \n",
    "    # calculate OLS line-of-best-fit based on statistics\n",
    "    m = (mean_xy - mean_x*mean_y)/(mean_x_squared - squared_mean_x)\n",
    "    b = mean_y - m*mean_x\n",
    "    \n",
    "    # calculate goodness-of-fit\n",
    "    y_hat = [m*xi+b for xi in x]\n",
    "    total_unexplained_variation = reduce(sum_up, ((y[i]-y_hat[i])**2 for i in range(n)))\n",
    "    total_variation = reduce(sum_up, ((y[i]-mean_y)**2 for i in range(n)))\n",
    "    r_sq = 1 - (total_unexplained_variation/total_variation)\n",
    "    \n",
    "    if p:    \n",
    "        print(\"y = {}x + {} with R\\u00b2 of {}\".format(round(m,4),round(b,4),round(r_sq,4)))\n",
    "    \n",
    "    return [[m, b, r_sq],y_hat]  \n",
    "\n",
    "ans = linear_regression(x,y)"
   ]
  },
  {
   "cell_type": "markdown",
   "metadata": {},
   "source": [
    "## Check against Python library regression"
   ]
  },
  {
   "cell_type": "code",
   "execution_count": 18,
   "metadata": {
    "collapsed": false
   },
   "outputs": [
    {
     "name": "stdout",
     "output_type": "stream",
     "text": [
      "[ 0.86155259  1.56484126]\n",
      "[ 0.86155259 1.56484126 ]\n"
     ]
    }
   ],
   "source": [
    "print(np.polyfit(x,y,1))\n",
    "print(\"[\", round(ans[0][0],8), round(ans[0][1],8),\"]\")"
   ]
  },
  {
   "cell_type": "markdown",
   "metadata": {},
   "source": [
    "## Visualize results"
   ]
  },
  {
   "cell_type": "code",
   "execution_count": null,
   "metadata": {
    "collapsed": false
   },
   "outputs": [],
   "source": [
    "plt.scatter(x,y)\n",
    "plot(x,ans[1])\n",
    "plt.show()"
   ]
  },
  {
   "cell_type": "code",
   "execution_count": null,
   "metadata": {
    "collapsed": true
   },
   "outputs": [],
   "source": []
  }
 ],
 "metadata": {
  "kernelspec": {
   "display_name": "Python 3",
   "language": "python",
   "name": "python3"
  },
  "language_info": {
   "codemirror_mode": {
    "name": "ipython",
    "version": 3
   },
   "file_extension": ".py",
   "mimetype": "text/x-python",
   "name": "python",
   "nbconvert_exporter": "python",
   "pygments_lexer": "ipython3",
   "version": "3.5.1"
  }
 },
 "nbformat": 4,
 "nbformat_minor": 0
}
