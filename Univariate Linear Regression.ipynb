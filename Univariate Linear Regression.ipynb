{
 "cells": [
  {
   "cell_type": "markdown",
   "metadata": {},
   "source": [
    "### IMPORT LIBRARIES"
   ]
  },
  {
   "cell_type": "code",
   "execution_count": 1,
   "metadata": {
    "collapsed": true
   },
   "outputs": [],
   "source": [
    "import random\n",
    "%matplotlib inline\n",
    "import matplotlib.pyplot as plt\n",
    "from functools import reduce\n",
    "import numpy as np\n",
    "from pylab import plot, show"
   ]
  },
  {
   "cell_type": "markdown",
   "metadata": {},
   "source": [
    "### GENERATE TEST DATA"
   ]
  },
  {
   "cell_type": "code",
   "execution_count": 2,
   "metadata": {
    "collapsed": false
   },
   "outputs": [
    {
     "data": {
      "text/plain": [
       "<matplotlib.collections.PathCollection at 0x7f566b7b92d0>"
      ]
     },
     "execution_count": 2,
     "metadata": {},
     "output_type": "execute_result"
    },
    {
     "data": {
      "image/png": "[encoded data removed]",
      "text/plain": [
       "<matplotlib.figure.Figure at 0x7f567c3a8810>"
      ]
     },
     "metadata": {},
     "output_type": "display_data"
    }
   ],
   "source": [
    "random.seed(300)\n",
    "beta1 = random.uniform(0, 10)\n",
    "beta2 = random.uniform(0, 5)\n",
    "x_pop = range(-250,250,1)\n",
    "x = random.sample(x_pop,50)\n",
    "y = [beta1 + beta2*x[i] + random.uniform(0,300) for i in range(len(x))]\n",
    "\n",
    "#x = [1,6,1.3,76,2,5,6,7,1,7,2,4,6,8,9]\n",
    "#y = [3,5,2,68,8.9,6,3,5,8,10,3.2,5.11,6,8,4]\n",
    "\n",
    "plt.scatter(x,y)"
   ]
  },
  {
   "cell_type": "markdown",
   "metadata": {},
   "source": [
    "### UNIVARIATE REGRESSION FUNCTION"
   ]
  },
  {
   "cell_type": "code",
   "execution_count": 3,
   "metadata": {
    "collapsed": false
   },
   "outputs": [
    {
     "name": "stdout",
     "output_type": "stream",
     "text": [
      "y = 1.7265x + 135.8454 with R^2 of 0.8906\n"
     ]
    }
   ],
   "source": [
    "def simple_linear_regression(x,y, p=True):\n",
    "    \"\"\" Perform univariate OLS regression. Return the list [[m, b, r_sq], y-hat] for y-hat=mx+b.\n",
    "    \n",
    "    Arguments: x,y are 1D lists of floats, with len(x)==len(y); x[0],y[0] are one data point, etc.\n",
    "    \"\"\"   \n",
    "    \n",
    "    # verify that (x,y) pairs were provided\n",
    "    n = len(x)\n",
    "    if n != len(y):\n",
    "        print(\"Sorry, you must provide (x,y) pairs to use this function.\")\n",
    "        return None\n",
    "    \n",
    "    # calculate statistics from (x,y) pairs\n",
    "    def sum_up(x1, x2):\n",
    "        return x1+x2\n",
    "    \n",
    "    mean_y = reduce(sum_up, y)/n\n",
    "    mean_x = reduce(sum_up, x)/n\n",
    "    sq_mean_of_x = mean_x**2\n",
    "    mean_of_x_sq = reduce(sum_up, map(lambda x: x**2, x))/n\n",
    "    mean_xy = reduce(sum_up, [x[i]*y[i] for i in range(n)])/n\n",
    "    \n",
    "    # calculate OLS estimates\n",
    "    m = (mean_xy - mean_x*mean_y)/(mean_of_x_sq - sq_mean_of_x)\n",
    "    b = mean_y - m*mean_x\n",
    "    \n",
    "    # calculate R squared\n",
    "    y_hat = [m*xi+b for xi in x]\n",
    "    RSS = reduce(sum_up, ((y[i]-y_hat[i])**2 for i in range(n)))\n",
    "    TSS = reduce(sum_up, ((y[i]-mean_y)**2 for i in range(n)))\n",
    "    r_sq = 1 - (RSS/TSS)\n",
    "    \n",
    "    if p:    \n",
    "        print('y = {}x + {} with R^2 of {}'.format(round(m,4),round(b,4),round(r_sq,4)))\n",
    "    \n",
    "    return [[m, b, r_sq],y_hat]  \n",
    "\n",
    "test_OLS = simple_linear_regression(x,y)"
   ]
  },
  {
   "cell_type": "markdown",
   "metadata": {
    "collapsed": true
   },
   "source": [
    "### CHECK AGAINST NUMPY REGRESSION"
   ]
  },
  {
   "cell_type": "code",
   "execution_count": 4,
   "metadata": {
    "collapsed": false
   },
   "outputs": [
    {
     "name": "stdout",
     "output_type": "stream",
     "text": [
      "[ 1.72472563026  135.383315664 ]\n",
      "[ 1.72646623361  135.845351601 ]\n"
     ]
    }
   ],
   "source": [
    "test_np = np.polyfit(x,y,1)\n",
    "print '[', test_np[0], '', test_np[1], ']'\n",
    "print '[', test_OLS[0][0], '', test_OLS[0][1], ']'"
   ]
  },
  {
   "cell_type": "markdown",
   "metadata": {},
   "source": [
    "### VISUALIZE RESULTS"
   ]
  },
  {
   "cell_type": "code",
   "execution_count": 5,
   "metadata": {
    "collapsed": false
   },
   "outputs": [
    {
     "data": {
      "text/plain": [
       "[<matplotlib.lines.Line2D at 0x7f566db3d910>]"
      ]
     },
     "execution_count": 5,
     "metadata": {},
     "output_type": "execute_result"
    },
    {
     "data": {
      "image/png": "[encoded data removed]",
      "text/plain": [
       "<matplotlib.figure.Figure at 0x7f566db3d790>"
      ]
     },
     "metadata": {},
     "output_type": "display_data"
    }
   ],
   "source": [
    "plt.scatter(x,y)\n",
    "plot(x,test_OLS[1])"
   ]
  },
  {
   "cell_type": "code",
   "execution_count": 6,
   "metadata": {
    "collapsed": false
   },
   "outputs": [
    {
     "data": {
      "text/plain": [
       "<matplotlib.collections.PathCollection at 0x7f566b0fe1d0>"
      ]
     },
     "execution_count": 6,
     "metadata": {},
     "output_type": "execute_result"
    },
    {
     "data": {
      "image/png": "[encoded data removed]",
      "text/plain": [
       "<matplotlib.figure.Figure at 0x7f566b277250>"
      ]
     },
     "metadata": {},
     "output_type": "display_data"
    }
   ],
   "source": [
    "OLS_residuals = [y[i] - test_OLS[1][i] for i in range(len(y))]\n",
    "plt.scatter(range(len(OLS_residuals)),OLS_residuals)"
   ]
  }
 ],
 "metadata": {
  "kernelspec": {
   "display_name": "Python 2",
   "language": "python",
   "name": "python2"
  },
  "language_info": {
   "codemirror_mode": {
    "name": "ipython",
    "version": 2
   },
   "file_extension": ".py",
   "mimetype": "text/x-python",
   "name": "python",
   "nbconvert_exporter": "python",
   "pygments_lexer": "ipython2",
   "version": "2.7.11"
  }
 },
 "nbformat": 4,
 "nbformat_minor": 0
}
